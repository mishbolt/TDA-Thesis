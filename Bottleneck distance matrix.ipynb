{
 "cells": [
  {
   "cell_type": "code",
   "execution_count": 4,
   "metadata": {},
   "outputs": [
    {
     "name": "stdout",
     "output_type": "stream",
     "text": [
      "Defaulting to user installation because normal site-packages is not writeable\n",
      "Requirement already satisfied: mat73 in ./.local/lib/python3.8/site-packages (0.59)\n",
      "Requirement already satisfied: h5py in /packages/anaconda3/2020.07/lib/python3.8/site-packages (from mat73) (2.10.0)\n",
      "Requirement already satisfied: numpy in /packages/anaconda3/2020.07/lib/python3.8/site-packages (from mat73) (1.18.5)\n",
      "Requirement already satisfied: six in /packages/anaconda3/2020.07/lib/python3.8/site-packages (from h5py->mat73) (1.15.0)\n",
      "Note: you may need to restart the kernel to use updated packages.\n"
     ]
    }
   ],
   "source": [
    "pip install mat73"
   ]
  },
  {
   "cell_type": "code",
   "execution_count": 1,
   "metadata": {},
   "outputs": [],
   "source": [
    "import mat73"
   ]
  },
  {
   "cell_type": "code",
   "execution_count": 2,
   "metadata": {},
   "outputs": [],
   "source": [
    "# /scratch/mb2864/Data/GE_Data_221013_normPH.mat\n",
    "# /scratch/mb2864/Data/GEpyramids_sigma0_kappa_1_to_5_by_25_normalized_reordered.mat\n",
    "def data():\n",
    "    Data=mat73.loadmat('/scratch/mb2864/Data/GE_Data_221013_normPH.mat', use_attrdict=True)\n",
    "    return Data"
   ]
  },
  {
   "cell_type": "code",
   "execution_count": null,
   "metadata": {},
   "outputs": [],
   "source": [
    "\n",
    "import numpy as np\n",
    "import gudhi.representations\n",
    "\n",
    "Data=data()\n",
    "\n",
    "Pers_diags=Data.X.h0_t20_n\n",
    "\n",
    "BD_module = gudhi.representations.metrics.BottleneckDistance()\n",
    "\n",
    "BD_fit=BD_module.fit(Pers_diags)\n",
    "\n",
    "Distance_matrix=BD_fit.transform(Pers_diags)\n",
    "\n",
    "np.savetxt('Distance_matrixH_0_25_normalized.csv',Distance_matrix, delimiter=\",\")"
   ]
  }
 ],
 "metadata": {
  "kernelspec": {
   "display_name": "Python 3 [sys]",
   "language": "python",
   "name": "python3"
  },
  "language_info": {
   "codemirror_mode": {
    "name": "ipython",
    "version": 3
   },
   "file_extension": ".py",
   "mimetype": "text/x-python",
   "name": "python",
   "nbconvert_exporter": "python",
   "pygments_lexer": "ipython3",
   "version": "3.8.3"
  }
 },
 "nbformat": 4,
 "nbformat_minor": 4
}
