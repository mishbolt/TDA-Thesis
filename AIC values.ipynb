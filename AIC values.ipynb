{
 "cells": [
  {
   "cell_type": "code",
   "execution_count": 5,
   "metadata": {},
   "outputs": [
    {
     "name": "stdout",
     "output_type": "stream",
     "text": [
      "Collecting package metadata (current_repodata.json): done\n",
      "Solving environment: failed with initial frozen solve. Retrying with flexible solve.\n",
      "Collecting package metadata (repodata.json): done\n",
      "Solving environment: failed with initial frozen solve. Retrying with flexible solve.\n",
      "\n",
      "PackagesNotFoundError: The following packages are not available from current channels:\n",
      "\n",
      "  - mat73\n",
      "\n",
      "Current channels:\n",
      "\n",
      "  - https://repo.anaconda.com/pkgs/main/linux-64\n",
      "  - https://repo.anaconda.com/pkgs/main/noarch\n",
      "  - https://repo.anaconda.com/pkgs/r/linux-64\n",
      "  - https://repo.anaconda.com/pkgs/r/noarch\n",
      "\n",
      "To search for alternate channels that may provide the conda package you're\n",
      "looking for, navigate to\n",
      "\n",
      "    https://anaconda.org\n",
      "\n",
      "and use the search bar at the top of the page.\n",
      "\n",
      "\n",
      "\n",
      "Note: you may need to restart the kernel to use updated packages.\n"
     ]
    }
   ],
   "source": [
    "conda install mat73"
   ]
  },
  {
   "cell_type": "code",
   "execution_count": 1,
   "metadata": {},
   "outputs": [],
   "source": [
    "import numpy as np\n",
    "from sklearn.linear_model import LinearRegression\n",
    "import statsmodels.api as sm\n",
    "import pandas as pd\n",
    "import numpy as np\n",
    "import mat73\n",
    "import itertools\n",
    "\n",
    "\n",
    "\n",
    "def data():\n",
    "    Data=mat73.loadmat('GEpyramids_sigma0_kappa_1_to_5_by_25_normalized_reordered.mat', use_attrdict=True)\n",
    "    return Data\n",
    "def coord_matrix():\n",
    "    \n",
    "    \n",
    "    Data = data()\n",
    "    #gudhi.plot_persistence_diagram(data.X.h0_t20[2])\n",
    "    \n",
    "    f1=np.zeros([850,1])\n",
    "    f2=np.zeros([850,1])\n",
    "    f3=np.zeros([850,1])\n",
    "    f4=np.zeros([850,1])\n",
    "    f5=np.zeros([850,1])\n",
    "    \n",
    "    M= np.zeros([850,10])\n",
    "    \n",
    "    for k in range(2):\n",
    "        for j in range(850):\n",
    "            if k==0:\n",
    "                H0_pers=Data.X.h0_t20_n[j]\n",
    "            if k==1:\n",
    "                H0_pers=Data.X.h1_t20_n[j]\n",
    "            H0_pers=np.array(H0_pers[0])    \n",
    "            p=[H0_pers[i,1]-H0_pers[i,0] for i in range(len(H0_pers))]\n",
    "            \n",
    "            p=np.array(p)\n",
    "            \n",
    "            b=H0_pers[:,0]\n",
    "            d=H0_pers[:,1]\n",
    "            b=np.array(b)\n",
    "            d=np.array(d)\n",
    "            d_max=np.max(d)\n",
    "            #Carlson Coordinates\n",
    "            f1[j]=np.sum(d*p)\n",
    "            f2[j]=d_max*np.sum(p)-np.sum(d*p)\n",
    "            f3[j]=np.sum(b**2*(d-b)**4)\n",
    "            f4[j]=d_max**2*np.sum((1-d/d_max)**2*p**4)\n",
    "            f5[j]=np.max(p)\n",
    "        if k==0:\n",
    "            M[:,0:5]=np.concatenate((f1,f2,f3,f4,f5),axis=1)\n",
    "        else:\n",
    "            M[:,5:10]=np.concatenate((f1,f2,f3,f4,f5),axis=1)\n",
    "\n",
    "    return(M)\n",
    "\n",
    "\n",
    "\n",
    "\n",
    "kappa=np.zeros([850,1])\n",
    "for j in range(17):\n",
    "    kappa[50*j:50*(j+1)]=np.array([[j*0.25+1]*50]).transpose()\n",
    "    \n",
    "C=coord_matrix()\n",
    "\n",
    "\n",
    "a=[]\n",
    "index=np.array(range(len(C[0])))\n",
    "\n",
    "for L in range(len(index) + 1):\n",
    "    for subset in itertools.combinations(index, L):\n",
    "        a.append(subset)\n",
    "        \n",
    "a.pop(0)\n",
    "AIC_values=[]\n",
    "for i in range(len(a)):\n",
    "    x = np.array(C[:,a[i]])\n",
    "    x = sm.add_constant(x)\n",
    "\n",
    "    model = sm.OLS(kappa, x).fit()\n",
    "\n",
    "    AIC_values.append(np.array([a[i],model.aic]))\n"
   ]
  },
  {
   "cell_type": "code",
   "execution_count": 3,
   "metadata": {},
   "outputs": [
    {
     "name": "stdout",
     "output_type": "stream",
     "text": [
      "[(0, 1, 2, 3, 5, 6, 7, 8, 9) 904.6811963066621]\n"
     ]
    }
   ],
   "source": [
    "AIC_values=np.array(AIC_values)\n",
    "minimum_index=np.argmin(AIC_values[:,1])\n",
    "print(AIC_values[minimum_index])"
   ]
  },
  {
   "cell_type": "markdown",
   "metadata": {},
   "source": []
  }
 ],
 "metadata": {
  "kernelspec": {
   "display_name": "Python 3 [sys]",
   "language": "python",
   "name": "python3"
  },
  "language_info": {
   "codemirror_mode": {
    "name": "ipython",
    "version": 3
   },
   "file_extension": ".py",
   "mimetype": "text/x-python",
   "name": "python",
   "nbconvert_exporter": "python",
   "pygments_lexer": "ipython3",
   "version": "3.8.3"
  }
 },
 "nbformat": 4,
 "nbformat_minor": 4
}
